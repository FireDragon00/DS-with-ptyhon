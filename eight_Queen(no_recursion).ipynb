{
  "nbformat": 4,
  "nbformat_minor": 0,
  "metadata": {
    "colab": {
      "provenance": [],
      "authorship_tag": "ABX9TyO6pEu/F8n3hWNe0woCpPeH",
      "include_colab_link": true
    },
    "kernelspec": {
      "name": "python3",
      "display_name": "Python 3"
    },
    "language_info": {
      "name": "python"
    }
  },
  "cells": [
    {
      "cell_type": "markdown",
      "metadata": {
        "id": "view-in-github",
        "colab_type": "text"
      },
      "source": [
        "<a href=\"https://colab.research.google.com/github/FireDragon00/DS-with-ptyhon/blob/main/eight_Queen(no_recursion).ipynb\" target=\"_parent\"><img src=\"https://colab.research.google.com/assets/colab-badge.svg\" alt=\"Open In Colab\"/></a>"
      ]
    },
    {
      "cell_type": "markdown",
      "source": [
        "# 八皇后问题"
      ],
      "metadata": {
        "id": "kDxHzwRc6gA5"
      }
    },
    {
      "cell_type": "markdown",
      "source": [
        "创建put_Q(attack, row, column)函数，用来计算放入皇后之后，所有皇后的攻击范围"
      ],
      "metadata": {
        "id": "ZjXZ_j3z6xl7"
      }
    },
    {
      "cell_type": "code",
      "execution_count": 1,
      "metadata": {
        "id": "x5wbCi146PMA"
      },
      "outputs": [],
      "source": [
        "def put_Q(attack, row, column):\n",
        "\t\"\"\"\n",
        "\t:param attack: 皇后们的攻击范围\n",
        "\t:param row: 新皇后所在行\n",
        "\t:param column: 新皇后所在列\n",
        "\t:return: 加入新皇后后的攻击范围\n",
        "\t\"\"\"\n",
        "\tsum_ = row + column\n",
        "\tdiff_ = row - column\n",
        "\tfor i in range(8):\n",
        "\t\tfor j in range(8):\n",
        "\t\t\tif i + j == sum_:\n",
        "\t\t\t\tattack[i][j] += 1\n",
        "\t\t\telif i - j == diff_:\n",
        "\t\t\t\tattack[i][j] += 1\n",
        "\t\t\telif i == row:\n",
        "\t\t\t\tattack[i][j] += 1\n",
        "\t\t\telif j == column:\n",
        "\t\t\t\tattack[i][j] += 1\n",
        "\t\t\telse:\n",
        "\t\t\t\tpass\n",
        "\treturn attack"
      ]
    },
    {
      "cell_type": "markdown",
      "source": [
        "创建remove_Q()函数，用来计算移除皇后之后，所有的皇后的攻击范围。注意：移除皇后表明要进行回溯"
      ],
      "metadata": {
        "id": "OCqbB0do7JU9"
      }
    },
    {
      "cell_type": "code",
      "source": [
        "def remove_Q(attack, row, column):\n",
        "\t\"\"\"\n",
        "\t:param attack: 皇后们的攻击范围\n",
        "\t:param row: 要去除的皇后所在行\n",
        "\t:param column: 要去除的皇后所在列\n",
        "\t:return: 去除该皇后后的攻击范围\n",
        "\t\"\"\"\n",
        "\tsum_ = row + column\n",
        "\tdiff_ = row - column\n",
        "\tfor i in range(8):\n",
        "\t\tfor j in range(8):\n",
        "\t\t\tif i + j == sum_:\n",
        "\t\t\t\tattack[i][j] -= 1\n",
        "\t\t\telif i - j == diff_:\n",
        "\t\t\t\tattack[i][j] -= 1\n",
        "\t\t\telif i == row:\n",
        "\t\t\t\tattack[i][j] -= 1\n",
        "\t\t\telif j == column:\n",
        "\t\t\t\tattack[i][j] -= 1\n",
        "\t\t\telse:\n",
        "\t\t\t\tpass\n",
        "\treturn attack"
      ],
      "metadata": {
        "id": "nYVCvmsA8CQ-"
      },
      "execution_count": 2,
      "outputs": []
    },
    {
      "cell_type": "markdown",
      "source": [
        "非递归回溯法放置皇后"
      ],
      "metadata": {
        "id": "ojAFZ9oL8M0r"
      }
    },
    {
      "cell_type": "code",
      "source": [
        "def trace_back():\n",
        "\t\"\"\"\n",
        "\tattack_board: 已放置的皇后的攻击范围，用正数标记，可放置位置用0标记\n",
        "\tQ_record_board：皇后放置记录板，回溯用的状态标记，标记哪里放过皇后\n",
        "\tk_row：行，每行放置一个皇后，每行都进行列遍历\n",
        "\tcolumn：列\n",
        "\tsolve_method：记录解法数量\n",
        "\tn_back：n_back=8时说明第8次回溯到k_row=0行，遍历结束\n",
        "\tcounter：如果该列没有可放置的地方，则回溯到上一行\n",
        "\t\"\"\"\n",
        "\tattack_board = [[0 for _ in range(8)] for _ in range(8)]\n",
        "\tQ_record_board = [['.' for _ in range(8)] for _ in range(8)]\n",
        "\tk_row = 0\n",
        "\tcolumn = 0\n",
        "\tsolve_method = 0\n",
        "\tn_back = 0\n",
        "\tcounter = 0\n",
        "\twhile n_back != 8:\n",
        "\n",
        "\t\t# 当该行没有可放置的位置时，回溯到上一行\n",
        "\t\tif counter == 8:\n",
        "\t\t\tcounter = 0\n",
        "\t\t\tcolumn = 0\n",
        "\t\t\tk_row -= 1\n",
        "\t\t\tif k_row == 0:\n",
        "\t\t\t\tn_back += 1\n",
        "\t\t\tcontinue\n",
        "\n",
        "\t\t# 当该位置在皇后的攻击范围中时，counter计数＋1，column+1进入该行的下一列\n",
        "\t\tif attack_board[k_row][column] != 0:\n",
        "\t\t\t# 如果这一行的该列是‘Q’，则需要仅删除该皇后的攻击范围并把下面的行重置为'.'，因为后面的列会有新皇后产生\n",
        "\t\t\tif Q_record_board[k_row][column] == 'Q':\n",
        "\t\t\t\tQ_record_board[k_row][column] = 'Q_X'\n",
        "\t\t\t\tfor x in range(k_row+1, 8):\n",
        "\t\t\t\t\tfor y in range(8):\n",
        "\t\t\t\t\t\tQ_record_board[x][y] = '.'\n",
        "\t\t\t\tattack_board = remove_Q(attack_board, k_row, column)\n",
        "\t\t\tcounter += 1\n",
        "\t\t\tcolumn += 1\n",
        "\t\t\tcontinue\n",
        "\n",
        "\t\t# 当该位置可放皇后，放入皇后，更新攻击范围和皇后放置记录板，进入下一行\n",
        "\t\tif attack_board[k_row][column] == 0 and Q_record_board[k_row][column] == '.':\n",
        "\t\t\t# 找到一组解\n",
        "\t\t\tif k_row == 7:\n",
        "\t\t\t\tsolve_method += 1\n",
        "\t\t\t\tQ_record_board[k_row][column] = 'Q'\n",
        "\t\t\t\tk_row -= 1\n",
        "\t\t\t\tcolumn = 0\n",
        "\t\t\t\tcounter = 0\n",
        "\t\t\t\tcontinue\n",
        "\t\t\tQ_record_board[k_row][column] = 'Q'\n",
        "\t\t\tattack_board = put_Q(attack_board, k_row, column)\n",
        "\t\t\tk_row += 1\n",
        "\t\t\tcolumn = 0\n",
        "\t\t\tcounter = 0\n",
        "\n",
        "\tprint(solve_method)\n",
        "\n",
        "trace_back()"
      ],
      "metadata": {
        "colab": {
          "base_uri": "https://localhost:8080/"
        },
        "id": "-sXG3DCO8Sxd",
        "outputId": "f6064f0a-fcb6-4ff8-eb95-596daa8f13ac"
      },
      "execution_count": 3,
      "outputs": [
        {
          "output_type": "stream",
          "name": "stdout",
          "text": [
            "92\n"
          ]
        }
      ]
    }
  ]
}